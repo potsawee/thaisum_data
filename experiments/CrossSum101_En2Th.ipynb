{
 "cells": [
  {
   "cell_type": "code",
   "execution_count": 1,
   "id": "75acc12a",
   "metadata": {},
   "outputs": [],
   "source": [
    "import re\n",
    "import json\n",
    "import torch\n",
    "from tqdm import tqdm"
   ]
  },
  {
   "cell_type": "code",
   "execution_count": 2,
   "id": "8137256e",
   "metadata": {},
   "outputs": [
    {
     "name": "stderr",
     "output_type": "stream",
     "text": [
      "Found cached dataset cross_sum (/home/alta/summary/pm574/.cache/datasets/cross_sum/english-thai/1.0.0/eb4f77f2fc1b67d7b1b8d20108d04a2916d9c6cbdad1aa984beea9494fe3a12b)\n"
     ]
    },
    {
     "data": {
      "application/vnd.jupyter.widget-view+json": {
       "model_id": "1f35318c6f4743b59607dbcaffadc30d",
       "version_major": 2,
       "version_minor": 0
      },
      "text/plain": [
       "  0%|          | 0/3 [00:00<?, ?it/s]"
      ]
     },
     "metadata": {},
     "output_type": "display_data"
    }
   ],
   "source": [
    "from datasets import load_dataset\n",
    "# for available language names, see above\n",
    "src_lang = \"english\"\n",
    "tgt_lang = \"thai\"\n",
    "dataset = load_dataset(f\"csebuetnlp/CrossSum\", \"{}-{}\".format(src_lang, tgt_lang))"
   ]
  },
  {
   "cell_type": "code",
   "execution_count": 3,
   "id": "ee43b1f7",
   "metadata": {},
   "outputs": [
    {
     "data": {
      "text/plain": [
       "DatasetDict({\n",
       "    train: Dataset({\n",
       "        features: ['source_url', 'target_url', 'summary', 'text'],\n",
       "        num_rows: 816\n",
       "    })\n",
       "    test: Dataset({\n",
       "        features: ['source_url', 'target_url', 'summary', 'text'],\n",
       "        num_rows: 102\n",
       "    })\n",
       "    validation: Dataset({\n",
       "        features: ['source_url', 'target_url', 'summary', 'text'],\n",
       "        num_rows: 102\n",
       "    })\n",
       "})"
      ]
     },
     "execution_count": 3,
     "metadata": {},
     "output_type": "execute_result"
    }
   ],
   "source": [
    "dataset"
   ]
  },
  {
   "cell_type": "code",
   "execution_count": 19,
   "id": "97fd036e",
   "metadata": {},
   "outputs": [
    {
     "name": "stdout",
     "output_type": "stream",
     "text": [
      "cuda\n"
     ]
    }
   ],
   "source": [
    "device = torch.device(\"cuda\" if torch.cuda.is_available() else \"cpu\")\n",
    "print(device)"
   ]
  },
  {
   "cell_type": "code",
   "execution_count": 17,
   "id": "c9d6cc85",
   "metadata": {},
   "outputs": [],
   "source": [
    "from transformers import AutoTokenizer, AutoModelForSeq2SeqLM\n",
    "tokenizer = AutoTokenizer.from_pretrained(\"csebuetnlp/mT5_m2m_crossSum\", use_fast=False)\n",
    "model = AutoModelForSeq2SeqLM.from_pretrained(\"csebuetnlp/mT5_m2m_crossSum\")\n",
    "model = model.to(device)\n",
    "model = model.eval()"
   ]
  },
  {
   "cell_type": "code",
   "execution_count": 20,
   "id": "64431f69",
   "metadata": {},
   "outputs": [],
   "source": [
    "WHITESPACE_HANDLER = lambda k: re.sub('\\s+', ' ', re.sub('\\n+', ' ', k.strip()))\n",
    "get_lang_id = lambda lang: tokenizer._convert_token_to_id(\n",
    "    model.config.task_specific_params[\"langid_map\"][lang][1]\n",
    ") \n",
    "target_lang = \"thai\" # for a list of available language names see below"
   ]
  },
  {
   "cell_type": "code",
   "execution_count": 34,
   "id": "4584a6b3",
   "metadata": {},
   "outputs": [
    {
     "name": "stderr",
     "output_type": "stream",
     "text": [
      "100%|██████████████████████████████████████████████████████████████████████████████████████████████████████████████████████████| 102/102 [01:36<00:00,  1.06it/s]\n"
     ]
    }
   ],
   "source": [
    "outputs = {}\n",
    "for idx in tqdm(range(len(dataset['test']))):\n",
    "    source = dataset['test'][idx]['text']\n",
    "    input_ids = tokenizer(\n",
    "        [WHITESPACE_HANDLER(source)],\n",
    "        return_tensors=\"pt\", padding=\"max_length\",\n",
    "        truncation=True, max_length=512)[\"input_ids\"].to(device)\n",
    "\n",
    "    output_ids = model.generate(\n",
    "        input_ids=input_ids,\n",
    "        decoder_start_token_id=get_lang_id(target_lang),\n",
    "        max_length=84,\n",
    "        no_repeat_ngram_size=2,\n",
    "        num_beams=4,\n",
    "    )[0]\n",
    "\n",
    "    summary = tokenizer.decode(\n",
    "        output_ids,\n",
    "        skip_special_tokens=True,\n",
    "        clean_up_tokenization_spaces=False\n",
    "    )\n",
    "    outputs[idx] = summary"
   ]
  },
  {
   "cell_type": "code",
   "execution_count": 36,
   "id": "0d6e0a8b",
   "metadata": {},
   "outputs": [],
   "source": [
    "with open(\"CrossSum_En2Th_outputs/test.json\", \"w\") as f:\n",
    "    json.dump(outputs, f)"
   ]
  },
  {
   "cell_type": "markdown",
   "id": "a58bca0a",
   "metadata": {},
   "source": [
    "# Evaluation"
   ]
  },
  {
   "cell_type": "code",
   "execution_count": 48,
   "id": "ba5c4ea8",
   "metadata": {},
   "outputs": [],
   "source": [
    "import numpy as np\n",
    "import pythainlp\n",
    "from rouge_score import rouge_scorer"
   ]
  },
  {
   "cell_type": "code",
   "execution_count": 43,
   "id": "017a4676",
   "metadata": {},
   "outputs": [],
   "source": [
    "class ThaiTokenizer:\n",
    "    def __init__(self, engine=\"newmm\"):\n",
    "        self.engine = engine \n",
    "        self.tokenizer = pythainlp.tokenize.word_tokenize # newmm -- new multicut is the default option\n",
    "    def tokenize(self, text):\n",
    "        return self.tokenizer(text, engine=self.engine)\n",
    "my_tokenizer = ThaiTokenizer(\"newmm\")\n",
    "\n",
    "# Google's reimplementation -- https://github.com/google-research/google-research/blob/e3d00617cb28064b6e96ab4e2485079f0ca5a763/rouge/rouge_scorer.py#L60\n",
    "scorer = rouge_scorer.RougeScorer(['rouge1', 'rouge2', 'rougeL'], tokenizer=my_tokenizer)"
   ]
  },
  {
   "cell_type": "code",
   "execution_count": 49,
   "id": "629aea23",
   "metadata": {},
   "outputs": [],
   "source": [
    "R1_arr = []\n",
    "R2_arr = []\n",
    "RL_arr = []\n",
    "for idx in range(len(outputs)):\n",
    "    output = outputs[idx]\n",
    "    target = dataset['test'][idx]['summary']\n",
    "    Rscore = scorer.score(target, output)\n",
    "    R1, R2, RL = Rscore['rouge1'].fmeasure, Rscore['rouge2'].fmeasure, Rscore['rougeL'].fmeasure\n",
    "    R1_arr.append(R1)\n",
    "    R2_arr.append(R2)    \n",
    "    RL_arr.append(RL)    "
   ]
  },
  {
   "cell_type": "code",
   "execution_count": 57,
   "id": "10346d44",
   "metadata": {},
   "outputs": [
    {
     "name": "stdout",
     "output_type": "stream",
     "text": [
      "25.931\n",
      "7.978\n",
      "20.065\n"
     ]
    }
   ],
   "source": [
    "print(\"{:.3f}\".format(np.mean(R1_arr)*100))\n",
    "print(\"{:.3f}\".format(np.mean(R2_arr)*100))\n",
    "print(\"{:.3f}\".format(np.mean(RL_arr)*100))"
   ]
  },
  {
   "cell_type": "code",
   "execution_count": null,
   "id": "4ffc4c7f",
   "metadata": {},
   "outputs": [],
   "source": []
  }
 ],
 "metadata": {
  "kernelspec": {
   "display_name": "Python 3 (ipykernel)",
   "language": "python",
   "name": "python3"
  },
  "language_info": {
   "codemirror_mode": {
    "name": "ipython",
    "version": 3
   },
   "file_extension": ".py",
   "mimetype": "text/x-python",
   "name": "python",
   "nbconvert_exporter": "python",
   "pygments_lexer": "ipython3",
   "version": "3.8.13"
  }
 },
 "nbformat": 4,
 "nbformat_minor": 5
}
