{
 "cells": [
  {
   "cell_type": "code",
   "execution_count": 29,
   "id": "5d15f66e",
   "metadata": {},
   "outputs": [],
   "source": [
    "import spacy\n",
    "import torch\n",
    "from transformers import AutoTokenizer, AutoModelForSeq2SeqLM\n",
    "from datasets import load_dataset"
   ]
  },
  {
   "cell_type": "code",
   "execution_count": 30,
   "id": "2ed7a884",
   "metadata": {},
   "outputs": [],
   "source": [
    "nlp = spacy.load(\"en_core_web_sm\")"
   ]
  },
  {
   "cell_type": "code",
   "execution_count": 31,
   "id": "ae221c3f",
   "metadata": {},
   "outputs": [
    {
     "name": "stderr",
     "output_type": "stream",
     "text": [
      "Found cached dataset xsum (/home/alta/summary/pm574/.cache/datasets/xsum/default/1.2.0/082863bf4754ee058a5b6f6525d0cb2b18eadb62c7b370b095d1364050a52b71)\n"
     ]
    },
    {
     "data": {
      "application/vnd.jupyter.widget-view+json": {
       "model_id": "83ea88facf2e47aeacbe4b9a6872eaa8",
       "version_major": 2,
       "version_minor": 0
      },
      "text/plain": [
       "  0%|          | 0/3 [00:00<?, ?it/s]"
      ]
     },
     "metadata": {},
     "output_type": "display_data"
    }
   ],
   "source": [
    "dataset = load_dataset(\"xsum\")"
   ]
  },
  {
   "cell_type": "code",
   "execution_count": 5,
   "id": "30cc81c6",
   "metadata": {},
   "outputs": [
    {
     "name": "stdout",
     "output_type": "stream",
     "text": [
      "cuda\n"
     ]
    }
   ],
   "source": [
    "device = torch.device(\"cuda\" if torch.cuda.is_available() else \"cpu\")\n",
    "print(device)"
   ]
  },
  {
   "cell_type": "code",
   "execution_count": 39,
   "id": "28766874",
   "metadata": {},
   "outputs": [
    {
     "data": {
      "application/vnd.jupyter.widget-view+json": {
       "model_id": "2f23293a8b034d55afe9521f13421eff",
       "version_major": 2,
       "version_minor": 0
      },
      "text/plain": [
       "Loading checkpoint shards:   0%|          | 0/3 [00:00<?, ?it/s]"
      ]
     },
     "metadata": {},
     "output_type": "display_data"
    }
   ],
   "source": [
    "tokenizer = AutoTokenizer.from_pretrained(\"facebook/nllb-200-3.3B\")\n",
    "model = AutoModelForSeq2SeqLM.from_pretrained(\"facebook/nllb-200-3.3B\")"
   ]
  },
  {
   "cell_type": "code",
   "execution_count": 40,
   "id": "7fa49ddf",
   "metadata": {},
   "outputs": [],
   "source": [
    "model = model.to(device)"
   ]
  },
  {
   "cell_type": "code",
   "execution_count": 41,
   "id": "f5961c88",
   "metadata": {},
   "outputs": [
    {
     "data": {
      "text/plain": [
       "'Clean-up operations are continuing across the Scottish Borders and Dumfries and Galloway after flooding caused by Storm Frank.'"
      ]
     },
     "execution_count": 41,
     "metadata": {},
     "output_type": "execute_result"
    }
   ],
   "source": [
    "dataset['train'][0]['summary']"
   ]
  },
  {
   "cell_type": "code",
   "execution_count": 42,
   "id": "b7b2673f",
   "metadata": {},
   "outputs": [
    {
     "name": "stdout",
     "output_type": "stream",
     "text": [
      "source: Clean-up operations are continuing across the Scottish Borders and Dumfries and Galloway after flooding caused by Storm Frank.\n",
      "transl: การทําความสะอาดยังคงดําเนินการอยู่ทั่วสกอตแลนด์บอร์ดเดอร์ และดัมฟรีสและกัลโลเวย์ หลังจากน้ําท่วมที่เกิดจากพายุฟรังค์\n",
      "--------------------------------------------------------------------------\n",
      "source: Two tourist buses have been destroyed by fire in a suspected arson attack in Belfast city centre.\n",
      "transl: รถโดยสารท่องเที่ยว 2 คันถูกทําลายด้วยไฟ ในเหตุการณ์การก่อเหตุเพลิงไหม้ที่น่าสงสัย ในใจกลางเมืองเบลฟาสต์\n",
      "--------------------------------------------------------------------------\n",
      "source: Lewis Hamilton stormed to pole position at the Bahrain Grand Prix ahead of Mercedes team-mate Nico Rosberg.\n",
      "transl: ลูอิส แฮมิลตัน ได้เข้าสู่ตําแหน่งอันดับแรกในกรังด์ปรีซ์บาห์เรน เหนือเพื่อนร่วมทีมของเมอร์เซเดส นิโก้ โรสเบิร์ก\n",
      "--------------------------------------------------------------------------\n",
      "source: A former Lincolnshire Police officer carried out a series of sex attacks on boys, a jury at Lincoln Crown Court was told.\n",
      "transl: อดีตเจ้าหน้าที่ตํารวจ ลินคอล์นเชียร์ ทําร้ายเด็กชายหลายคน ตามที่พนักงานพิพากษาที่ศาลลินคอล์นครูว์ได้รับทราบ\n",
      "--------------------------------------------------------------------------\n",
      "source: An armed man who locked himself into a room at a psychiatric hospital in Istanbul has ended his threat to kill himself, Turkish media report.\n",
      "transl: ผู้ชายผู้ถืออาวุธที่ปิดตัวในห้องพักในโรงพยาบาลจิตเภทในอิสตันบูล ได้หยุดการขู่ว่าจะฆ่าตัวตายแล้ว ตามรายงานของสื่อตุรกี\n",
      "--------------------------------------------------------------------------\n",
      "source: Defending Pro12 champions Glasgow Warriors bagged a late bonus-point victory over the Dragons despite a host of absentees and two yellow cards.\n",
      "transl: แชมป์ Pro12 กลาสโกว์ วอริโอเวอร์ส ได้รับจุดโบนัสช้าชนะ ดรากอนส์ แม้จะมีผู้ขาดและใบเหลืองสองใบ\n",
      "--------------------------------------------------------------------------\n",
      "source: A man with links to a car that was involved in a fatal bus stop crash in south London is being sought by police.\n",
      "transl: ผู้ชายที่เกี่ยวข้องกับรถที่เกี่ยวข้องกับอุบัติเหตุที่สถานีรถบัสที่ลอนดอนใต้ กําลังถูกตํารวจค้นหา\n",
      "--------------------------------------------------------------------------\n",
      "source: Welsh cyclist Luke Rowe says changes to the sport must be made following the death of Antoine Demoitie.\n",
      "transl: นักจักรยานชาวเวลส์ ลุค โรว์ กล่าวว่า การเปลี่ยนแปลงของกีฬาต้องถูกทํา หลังจากการตายของ Antoine Demoitie\n",
      "--------------------------------------------------------------------------\n",
      "source: Manchester City midfielder Ilkay Gundogan says it has been mentally tough to overcome a third major injury.\n",
      "transl: อิลคาย กุนโดแกน กองกลางของแมนเชสเตอร์ ซิตี้ บอกว่า มันยากมากที่จะเอาชนะอาการบาดเจ็บครั้งที่สาม\n",
      "--------------------------------------------------------------------------\n",
      "source: A jogger has been hit by an unmarked police car responding to an emergency call, leaving him with \"serious life-changing injuries\".\n",
      "transl: นักวิ่งถูกรถตํารวจชน ที่ไม่ติดเครื่องหมาย ตอบสนองการเรียกฉุกเฉิน ทําให้เขามี \"บาดเจ็บที่รุนแรงที่เปลี่ยนแปลงชีวิต\"\n",
      "--------------------------------------------------------------------------\n",
      "source: Hurricane Patricia has been rated as a category 5 storm.\n",
      "transl: พายุพายุแพทริเชีย ถูกจัดเป็นพายุระดับ 5\n",
      "--------------------------------------------------------------------------\n",
      "source: Hackers could gain access to home and corporate networks via security flaws in wireless mice, suggests research.\n",
      "transl: การ สืบ พบ กับ ความ ผิด พิพากษา\n",
      "--------------------------------------------------------------------------\n",
      "source: Dozens of jobs have been lost after efforts to save an historic building firm in the Scottish Borders failed.\n",
      "transl: หลายสิบงานถูกสูญเสีย หลังจากความพยายามที่จะช่วย บริษัทก่อสร้างประวัติศาสตร์ในสกอตแลนด์บอร์ดเดอร์ล้มเหลว\n",
      "--------------------------------------------------------------------------\n",
      "source: The European Commission has disclosed a preliminary finding that Amazon's tax arrangements in Luxembourg probably constitute \"state aid\".\n",
      "transl: การให้บริการที่ไม่เป็นไปตามกฎหมาย\n",
      "--------------------------------------------------------------------------\n",
      "source: The most important event in Northern Ireland's agricultural calendar - the Balmoral Show - has opened with thousands of people attending.\n",
      "transl: เหตุการณ์ที่สําคัญที่สุดในปฏิทินการเกษตรของอียอร์แลนด์เหนือ - การแสดง Balmoral - ได้เปิดด้วยคนเข้าร่วมเป็นพัน ๆ คน\n",
      "--------------------------------------------------------------------------\n",
      "source: Google has asked the High Court to throw out legal action being taken by ex-Formula 1 boss Max Mosley.\n",
      "transl: กูเกิลขอให้ศาลสูงสุด ยกเลิกการดําเนินคดีโดยอดีตนายใหญ่ ฟอร์มูล่า 1 แม็กซ์ มอสลีย์\n",
      "--------------------------------------------------------------------------\n",
      "source: Newport Gwent Dragons number eight Ed Jackson has undergone shoulder surgery and faces a spell on the sidelines.\n",
      "transl: นิวพอร์ต กวินท์ ดรากอนส์ เลขที่ 8 เอ็ด แจ็คสัน ได้รับการผ่าตัดไหล่ และเผชิญกับการใช้เวลาในขอบสนาม\n",
      "--------------------------------------------------------------------------\n",
      "source: The government is spending nearly £400,000 to help save the Cornish language.\n",
      "transl: รัฐบาลกําลังใช้เงินเกือบ 400,000 ปอนด์ เพื่อช่วยรักษาภาษาคอร์นวิช\n",
      "--------------------------------------------------------------------------\n",
      "source: Monaco boss Leonardo Jardim has been rewarded for steering the club to their first Ligue 1 title for 17 years with a new contract until 2020.\n",
      "transl: โบสของโมนาโก ลีโอนาร์โด จาร์ดิม ได้รับรางวัลจากการนําสโมสรไปสู่แชมป์ลีก 1 ครั้งแรกในรอบ 17 ปี ด้วยสัญญาใหม่จนถึงปี 2020\n",
      "--------------------------------------------------------------------------\n",
      "source: The US says it is \"deeply concerned\" about the electoral process in Nicaragua a day after Daniel Ortega, the left-wing leader, won a third consecutive presidential term.\n",
      "transl: สหรัฐอเมริกาบอกว่า \"เป็นห่วงอย่างมาก\" เกี่ยวกับกระบวนการเลือกตั้งในนิการากัว วันหนึ่งหลังจากที่ ดานิเอล ออร์เตก้า ผู้นําฝ่ายซ้ายได้รับการเลือกตั้งเป็นประธานาธิบดีเป็นระยะเวลาที่สามติดต่อกัน\n",
      "--------------------------------------------------------------------------\n",
      "source: South Africa is to set up a team to tackle hate crimes against gay people, the justice ministry says.\n",
      "transl: แอฟริกาใต้จะจัดตั้งทีมเพื่อจัดการกับอาชญากรรมที่เกิดจากความเกลียดชังต่อคนรักร่วมเพศ กระทรวงยุติธรรมกล่าวว่า\n",
      "--------------------------------------------------------------------------\n",
      "source: (Close):Wall Street markets fell on Friday as oil prices slipped ahead of a weekend meeting that could result in a freezing of production.\n",
      "transl: (ปิด) ตลาดวอลล์สตรีทตกในวันศุกร์ เมื่อราคาน้ํามันลดลงก่อนการประชุมสุดสัปดาห์ที่อาจทําให้การผลิตแข็งลง\n",
      "--------------------------------------------------------------------------\n",
      "source: Tarantulas have evolved almost exactly the same shade of vibrant blue at least eight separate times.\n",
      "transl: ตารันตูล่าได้วิวัฒนาการมาเป็นสีฟ้าสดใสๆ ที่เหมือนกันอย่างน้อย 8 ครั้ง\n",
      "--------------------------------------------------------------------------\n",
      "source: The co-pilot suspected of deliberately crashing the Germanwings jet in the French Alps had researched suicide methods and the security of cockpit doors, German prosecutors said.\n",
      "transl: ผู้ช่วยนักบิน ผู้ต้องหาที่ตั้งใจชนเครื่องบินของเจอร์มันวิงส์ ในภูเขาแอลป์ฝรั่งเศส ได้วิจัยวิธีการฆ่าตัวตายและความปลอดภัยของประตูห้องหมุนเครื่อง ผู้อัยการเยอรมันกล่าวว่า\n",
      "--------------------------------------------------------------------------\n",
      "source: DJ Neil Fox has told a court he engaged in \"saucy\" behaviour at work, but complaints made against him in 2014 were the first in his 29-year career.\n",
      "transl: ดีเจ นิล ฟ็อกซ์ ได้บอกศาลว่า เขามีพฤติกรรม \"ไม่ดี\" ในที่ทํางาน แต่การร้องเรียนที่ทําต่อเขาในปี 2014 เป็นครั้งแรกในอาชีพ 29 ปีของเขา\n",
      "--------------------------------------------------------------------------\n",
      "source: Tottenham midfielder Dele Alli has been ruled out of England's World Cup qualifier with Scotland and friendly against Spain after suffering a knee injury in training.\n",
      "transl: ดิเล อัลลี กองกลางของท็อตแนม ถูกตัดออกจากเกมฟุตบอลโลกกับสกอตแลนด์ และเกมกระชับมิตรกับสเปน หลังจากได้รับบาดเจ็บที่เข่าในระหว่างการฝึกซ้อม\n",
      "--------------------------------------------------------------------------\n"
     ]
    },
    {
     "name": "stdout",
     "output_type": "stream",
     "text": [
      "source: From when Karen Morgan was 12, until she was well into her teens, she was sexually abused by her uncle - a ministerial servant with the Jehovah's Witnesses.\n",
      "transl: การ ทํา ผิด พฤติกรรม ของ คาเรน มอร์แกน\n",
      "--------------------------------------------------------------------------\n",
      "source: Former Greek Finance Minister Yanis Varoufakis has told the BBC that economic reforms imposed on his country by creditors are \"going to fail\", ahead of talks on a huge bailout.\n",
      "transl: อดีตรัฐมนตรีการคลังกรีก ยานิส วารูฟากิส บอกกับบีบีซีว่า การปฏิรูปทางเศรษฐกิจที่ผู้นํากู้ทุนบังคับให้ประเทศของเขา \"กําลังจะล้มเหลว\" ก่อนการหารือเกี่ยวกับการช่วยเหลือเงินขนาดใหญ่\n",
      "--------------------------------------------------------------------------\n",
      "source: The International Paralympic Committee will make its decision on Russia's participation in the Rio Games \"in the interest of sport\", president Sir Philip Craven has told BBC Sport.\n",
      "transl: คณะกรรมการพาราลิมปิกนานาชาติจะตัดสินใจเกี่ยวกับการเข้าร่วมของรัสเซียในเกมส์ริโอ \"เพื่อประโยชน์ของกีฬา\" ประธาน เซอร์ฟิลิป คราเวน ได้บอกกับ BBC Sport\n",
      "--------------------------------------------------------------------------\n",
      "source: Full-back Ben Ransom has joined Championship side London Irish from Premiership and European Champions Cup winners Saracens.\n",
      "transl: เบน แรนซอม ย้ายไปร่วมทีมลอนดอน อิเรนช์ จากทีมซาราเซนส์\n",
      "--------------------------------------------------------------------------\n",
      "source: The Manor Marussia team have confirmed they intend to return to Formula 1 in time for the start of the season.\n",
      "transl: ทีมมานอร์ มารุเซียยืนยันว่าพวกเขาตั้งใจจะกลับมาในฟอร์มูล่า 1 ในเวลาที่จะเริ่มฤดูกาล\n",
      "--------------------------------------------------------------------------\n",
      "source: Funding to improve school buildings and create apprenticeships has been announced to help revive the economy.\n",
      "transl: การสนับสนุนเพื่อปรับปรุงอาคารโรงเรียนและสร้างสถานที่ฝึกงานได้ประกาศเพื่อช่วยฟื้นฟูเศรษฐกิจ\n",
      "--------------------------------------------------------------------------\n",
      "source: Britons are being offered an \"unreal and over-optimistic\" vision of what Brexit will look like, Sir John Major has warned.\n",
      "transl: คนอังกฤษถูกเสนอ \"ไม่จริงและเกินความหวัง\" วิสัยทัศน์ของสิ่งที่ Brexit จะดูเหมือน, เซอร์จอห์นเมเจอร์ได้เตือน.\n",
      "--------------------------------------------------------------------------\n",
      "source: The government has urged MPs to back a 1% cap on annual rises in working-age benefits and some tax credits, arguing it is vital to cutting the deficit.\n",
      "transl: รัฐบาลได้เรียกร้องให้ ส.ส. รองรับการปรับขึ้น 1% ของค่าเยียวยาอายุการทํางาน และการหักภาษีบางส่วน โดยให้เหตุผลว่ามันเป็นสิ่งสําคัญในการลดขาดทุน\n",
      "--------------------------------------------------------------------------\n",
      "source: A 13ft-deep hole causing widespread disruption to trains in south London has been found to have opened above an active sewer.\n",
      "transl: โหล่งลึก 13 ฟุต ส่งผลให้เกิดความเสียหายต่อรถไฟในลอนดอนใต้ ถูกพบว่าเปิดอยู่เหนือท่อระบายน้ําที่ทํางาน\n",
      "--------------------------------------------------------------------------\n",
      "source: Manchester City finally released the recent stranglehold Everton have placed on them with a hard-fought victory at Etihad Stadium.\n",
      "transl: แมนเชสเตอร์ ซิตี้ได้ปลดปล่อยการคุมขังที่ เอฟเวอร์ตัน ผูกไว้กับพวกเขา ด้วยชัยชนะที่ยากลําบาก ที่สนาม เอติฮัด สเตเดี้ยม\n",
      "--------------------------------------------------------------------------\n",
      "source: Labour has accused the Scottish first minister of misleading parliament over hospital bed blocking statistics.\n",
      "transl: พรรคแรงงานกล่าวหารัฐมนตรีสกอตแลนด์ว่า หลอกลวงรัฐสภา เกี่ยวกับสถิติการปิดเตียงในโรงพยาบาล\n",
      "--------------------------------------------------------------------------\n",
      "source: The UK has been found to be in breach of EU laws over the amount of sewage and waste water discharged into the sea off Carmarthenshire.\n",
      "transl: สหราชอาณาจักรถูกพบว่าทําผิดกฎหมายของสหภาพยุโรป เกี่ยวกับปริมาณของน้ําเสียและน้ําเสียที่ไหลลงทะเลนอก Carmarthenshire\n",
      "--------------------------------------------------------------------------\n",
      "source: Pope Francis has called for the Church in Cuba to have \"the freedom and the means\" to pursue its mission, on his first visit to the island.\n",
      "transl: ปาปาฟรานซิสเรียกร้องให้คริสตจักรในคิวบา มี \"อิสระภาพและสื่อ\" ในการดําเนินภารกิจของเขา ในครั้งแรกของการเยี่ยมชมเกาะ\n",
      "--------------------------------------------------------------------------\n",
      "source: New Widnes loan signing Rangi Chase has a \"clean slate\" start at the Vikings, says head coach Denis Betts\n",
      "transl: ใหม่ Widnes ยืมเซ็น Rangi Chase มี \"สะอาด\" เริ่มต้นที่ไวกิ้งส์, บอกว่าหัวหน้าโค้ชเดนิส Betts\n",
      "--------------------------------------------------------------------------\n",
      "source: Cricket Scotland chief executive Roddy Smith has announced that he will leave the role at the end of December.\n",
      "transl: โรดดี้ สมิธ กรรมการผู้จัดการใหญ่ของสกอตแลนด์ ประกาศว่า เขาจะลาออกจากตําแหน่งในปลายเดือนธันวาคม\n",
      "--------------------------------------------------------------------------\n",
      "source: Sunderland have given the Football Association (FA) permission to speak to their manager Sam Allardyce about the position of England boss.\n",
      "transl: ซันเดอร์แลนด์ ได้ให้สมาคมฟุตบอล (FA) อนุญาตให้พูดคุยกับผู้จัดการทีมแซม อัลลาร์ไดซ์ เกี่ยวกับตําแหน่งของหัวหน้าทีมชาติอังกฤษ\n",
      "--------------------------------------------------------------------------\n",
      "source: Wales held on for a nervy win over Argentina in Cardiff to end a run of five successive Test match defeats.\n",
      "transl: เวลส์เก็บไว้สําหรับชัยชนะที่น่าตื่นเต้นเหนืออาร์เจนตินาในคาร์ดิฟฟ์เพื่อจบการแพ้ในเกมทดลอง 5 นัดติดต่อกัน\n",
      "--------------------------------------------------------------------------\n",
      "source: A giant chalk carving of a kiwi has been granted protected status on the centenary of a World War One battle.\n",
      "transl: การแกะสลักกะพร้าวขนาดใหญ่ของคิวิได้รับการคุ้มครอง ในวันครบรอบ 100 ปีของการต่อสู้ในสงครามโลกครั้งแรก\n",
      "--------------------------------------------------------------------------\n",
      "source: An inmate at a prison grabbed keys from an officer and, while he was being restrained, a second prisoner tried to take another set of keys.\n",
      "transl: นักโทษที่คุกหนึ่ง ได้ยึดกุญแจจากเจ้าหน้าที่ และขณะที่เขาถูกควบคุม นักโทษคนที่สองพยายามที่จะเอากุญแจอีกคู่\n",
      "--------------------------------------------------------------------------\n",
      "source: There is a lot of talk that Tim Sherwood is close to being sacked by Aston Villa but I cannot understand why they would even contemplate getting rid of him at this stage of the season.\n",
      "transl: มีข่าวลือกันมากว่า ทิม เชอร์วู้ด กําลังใกล้ที่จะถูกไล่ออกจาก แอสตัน วิลล่า แต่ผมไม่เข้าใจว่าทําไมพวกเขาถึงคิดที่จะกําจัดเขาในช่วงนี้ของฤดูกาล\n",
      "--------------------------------------------------------------------------\n",
      "source: The blue badge disabled parking scheme could be extended to people with temporary conditions restricting their mobility.\n",
      "transl: โครงการที่จอดรถสําหรับคนพิการที่แบดจ์สีฟ้า สามารถขยายไปยังผู้คนที่มีสภาพชั่วคราวที่จํากัดการเคลื่อนไหวของพวกเขา\n",
      "--------------------------------------------------------------------------\n",
      "source: Older people in England are living longer than ever before, a report from Public Health England says.\n",
      "transl: การ ติด ต่อ ความ รู้สึก ของ คน อายุ\n",
      "--------------------------------------------------------------------------\n",
      "source: An inquiry into historical abuse in Nottinghamshire has recorded more than 500 offences on council property.\n",
      "transl: การสอบสวนเกี่ยวกับการละเมิดในอดีตในน็อตติ้งแฮมเชียร์ ได้บันทึกการกระทําผิดกว่า 500 ครั้งในทรัพย์สินของสภา\n",
      "--------------------------------------------------------------------------\n",
      "source: Holders Arsenal Ladies have been drawn away to 2012 winners Birmingham City in the Women's FA Cup quarter-finals.\n",
      "transl: ผู้ถือครอง อาร์เซน่อล เลดี้ ได้ถูกดึงออกไปยัง 2012 ผู้ชนะเบอร์มิงแฮมซิตี้ ในฟุตบอลหญิงเอฟเอคัพรอบรองชนะเลิศ\n",
      "--------------------------------------------------------------------------\n",
      "source: Dan Holman's brace helped Cheltenham to an easy win over out-of-form Bromley.\n",
      "transl: แดน โฮลแมนช่วยเชลเทนแฮมให้ชนะเบอร์มลีย์ได้ง่าย\n",
      "--------------------------------------------------------------------------\n",
      "source: Nearly a decade after the police shooting of Jean Charles de Menezes, his family have brought a case at the European Court of Human Rights in an attempt to see someone prosecuted over the 27-year-old's killing.\n",
      "transl: เกือบสิบปีหลังจากตํารวจยิงจาน ชาร์ลส์ เดอ เมเนเซส ครอบครัวของเขาได้นําคดีไปยังศาลยุโรปสิทธิมนุษยชน ในความพยายามที่จะเห็นใครบางคนถูกดําเนินคดีเกี่ยวกับการฆ่าของวัย 27 ปี\n",
      "--------------------------------------------------------------------------\n"
     ]
    },
    {
     "name": "stdout",
     "output_type": "stream",
     "text": [
      "source: Scotland's largest council is to increase council tax for the first time since 2005.\n",
      "transl: สภาที่ใหญ่ที่สุดของสกอตแลนด์ จะเพิ่มภาษีสภาเป็นครั้งแรกตั้งแต่ปี 2005\n",
      "--------------------------------------------------------------------------\n",
      "source: Controversial plans to build a 103-turbine wind farm in the centre of Shetland could face a legal challenge.\n",
      "transl: แผนการที่มีความขัดแย้งในการสร้างฟาร์มลม 103 ทอร์ไบน์ในใจกลางของเชตแลนด์ อาจต้องเผชิญกับการท้าทายทางกฎหมาย\n",
      "--------------------------------------------------------------------------\n",
      "source: Uganda's main opposition leader Kizza Besigye has been charged with treason.\n",
      "transl: ผู้นําฝ่ายค้านหลักของอูกันดา คิซซ่า เบซิเกีย ถูกฟ้องฐานฐานกบฎ\n",
      "--------------------------------------------------------------------------\n",
      "source: Try-scorer George North has described the British and Irish Lions's first-Test victory over Australia as an \"unbelievable feeling\".\n",
      "transl: นักยิงประตูจอร์จ นอร์ธ ได้อธิบายความชนะครั้งแรกของทีมบริตติช แอนด์ ไอริช ไลอนส์ ที่ชนะ ออสเตรเลียว่าเป็น \"ความรู้สึกที่ไม่น่าเชื่อ\"\n",
      "--------------------------------------------------------------------------\n",
      "source: Borussia Dortmund's Marco Reus has been omitted from Germany's Euro 2016 squad but Manchester United's Bastian Schweinsteiger has been included.\n",
      "transl: มาร์โก รอยส์ ของ โบรุสเซีย ดอร์ทมุนด์ ถูกยกเลิกจากทีมเยอรมันในยูโร 2016 แต่แบสเตียน ชวอินสไตเกอร์ ของแมนเชสเตอร์ ยูไนเต็ด ได้ถูกรวมไว้\n",
      "--------------------------------------------------------------------------\n",
      "source: Michel Platini, the head of European football's governing body Uefa, is being treated as \"in between a witness and an accused person'' by Swiss prosecutors investigating corruption at the world football authority Fifa.\n",
      "transl: มิเชล พลาตินี หัวหน้าสมาคมฟุตบอลยุโรป ยูฟ่า ถูกปฏิบัติต่อเหมือน \"ระหว่างพยานและผู้ถูกกล่าวหา\" โดยอัยการสวิตเซอร์แลนด์ ที่กําลังสืบสวนการทุจริตในสมาคมฟุตบอลโลก ฟีฟ่า\n",
      "--------------------------------------------------------------------------\n",
      "source: John Higgins believes he has the ability and the form to win his fifth World Championship.\n",
      "transl: จอห์น ฮิกกินส์ เชื่อว่าเขามีสมรรถนะ และฟอร์มที่จะชนะแชมป์โลกครั้งที่ 5\n",
      "--------------------------------------------------------------------------\n",
      "source: A boyfriend of a young soldier who died at Deepcut barracks asked her to end a love triangle at the Surrey base on the day she died, an inquest has heard.\n",
      "transl: แฟนของทหารหนุ่มที่ตายที่ค่าย Deepcut ได้ถามเธอว่า จะจบความรักสามเหลี่ยมที่ฐาน Surrey ในวันที่เธอตาย\n",
      "--------------------------------------------------------------------------\n",
      "source: A former Dragons' Den star paid a 13-year-old girl for sex in a rented London apartment after meeting her on a \"sugar daddy\" website, the Old Bailey has heard.\n",
      "transl: อดีตดาราของ \"มังกร\" จ่ายเงินให้เด็กสาวอายุ 13 ปี เพื่อมีเซ็กส์ในอพาร์ทเมนต์ที่เช่าในลอนดอน หลังจากได้พบเธอบนเว็บไซต์ \"พ่อน้ําตาล\"\n",
      "--------------------------------------------------------------------------\n",
      "source: Thousands of people have been left with no phone service after what BT described as \"malicious damage\" to cables in west London.\n",
      "transl: คนเป็นพันๆคนถูกทิ้งไว้โดยไม่มีการใช้โทรศัพท์ หลังจากที่บีทีอธิบายว่า \"ความเสียหายที่ร้ายแรง\" ในสายเคเบิลในลอนดอนตะวันตก\n",
      "--------------------------------------------------------------------------\n",
      "source: Mozambique legend Maria Mutola says her protege Caster Semenya can win the Olympic 800m title on her debut.\n",
      "transl: มาริอา มูโตลา ตํานานชาวโมซัมบิกบอกว่าเด็กที่ปกครองของเธอ คาสเตอร์ เซเมเนีย สามารถคว้าแชมป์ 800 เมตร โอลิมปิกได้ในครั้งแรก\n",
      "--------------------------------------------------------------------------\n",
      "source: The families of the victims of a fatal car crash at this year's South by Southwest (SXSW) in Austin, Texas, are suing its organisers.\n",
      "transl: ครอบครัวของผู้เสียชีวิตจากอุบัติเหตุรถยนต์ที่เกิดขึ้นในงาน South by Southwest (SXSW) ในปีนี้ที่ออสติน เท็กซัส กําลังฟ้องร้องผู้จัดงาน\n",
      "--------------------------------------------------------------------------\n",
      "source: Olympic champions Hannah Mills and Saskia Clark have won the prestigious female World Sailor of the Year Award.\n",
      "transl: แชมป์โอลิมปิก ฮันนาห์ มิลส์ และซาสกิอา คลาร์ค ได้รับรางวัลนักเรือหญิงแห่งโลกแห่งปี\n",
      "--------------------------------------------------------------------------\n",
      "source: British fencer Richard Kruse produced his best performance of the season to win the Shanghai Grand Prix - just days after being mugged in the Chinese city.\n",
      "transl: นักมวยชาวอังกฤษ ริชาร์ด ครูซ ทําผลงานที่ดีที่สุดในฤดูกาลนี้ เพื่อชนะการแข่งขันชิงชนะเลิศในเมืองเซี่ยงไฮ้ - เพียงไม่กี่วันหลังจากถูกปล้นในเมืองจีน\n",
      "--------------------------------------------------------------------------\n",
      "source: Ineos has announced plans to build a new European petrochemical production plant and boost capacity at plants in Scotland and Norway at a cost of about two billion euros (£1.8bn).\n",
      "transl: INEOS ได้ประกาศแผนที่จะสร้างโรงงานผลิตปิโตรเคมียุโรปใหม่ และเพิ่มกําลังผลิตในสกอตแลนด์และนอร์เวย์ ด้วยค่าใช้จ่ายประมาณ 2 พันล้านยูโร (1.8 พันล้านปอนด์)\n",
      "--------------------------------------------------------------------------\n",
      "source: Emil Michael, Uber's senior vice-president and a close ally of chief executive Travis Kalanick, has left the company, employees have been told.\n",
      "transl: เอมิล ไมเคิล รองประธานผู้ใหญ่ของอูเบอร์ และเป็นพันธมิตรสนิทของผู้บริหาร ทราวิส คาลานิค ได้ออกจากบริษัทแล้ว\n",
      "--------------------------------------------------------------------------\n",
      "source: A grade II-listed bridge in Dorset that was blamed for causing severe floods is to be dismantled and replaced.\n",
      "transl: สะพานที่อยู่ในประกาศอันดับ II ในดอร์เซ็ต ที่ถูกกล่าวหาว่าเป็นสาเหตุของน้ําท่วมอย่างรุนแรง จะถูกถอดทิ้งและเปลี่ยน\n",
      "--------------------------------------------------------------------------\n",
      "source: Chelsea's Premier League title rivals thought the door had been pushed ajar after a run on 13 straight wins ended at Tottenham and the new harmony under manager Antonio Conte was disturbed by Diego Costa.\n",
      "transl: คู่แข่งในศึกพรีเมียร์ลีกของเชลซีคิดว่าประตูได้ถูกผลักดันให้เปิด หลังจากที่การวิ่ง 13 ชนะติดต่อกันสิ้นสุดที่ท็อตแน่ม และความสอดคล้องใหม่ภายใต้ผู้จัดการทีม อันโตนิโอ คอนเต้ ถูกรบกวนโดยดิเอโก้ คอสต้า\n",
      "--------------------------------------------------------------------------\n",
      "source: Celtic player Callum McGregor has been given a 12-month driving ban after he was caught behind the wheel at almost four times the legal alcohol limit.\n",
      "transl: นักเตะเซลติก คัลลัม แม็คเกรเกอร์ ถูกห้ามขับรถ 12 เดือน หลังจากที่เขาถูกจับอยู่หลังกระบะด้วยปริมาณแอลกอฮอล์ที่เกินขั้นต่ํา 4 เท่า\n",
      "--------------------------------------------------------------------------\n",
      "source: A battling Dan Evans could not take his surprise US Open run into the second week as he lost to Spanish 19th seed Tommy Robredo in four sets.\n",
      "transl: แดน อีแวนส์ ที่กําลังสู้รบ ไม่สามารถเอาชนะการแข่งขันที่น่าประหลาดใจของเขาในสัปดาห์ที่สองในยูเอส โอเพ่นได้ เพราะเขาแพ้ให้กับทอมมี่ โรเบรโด นักเตะอันดับ 19 ของสเปนใน 4 เซต\n",
      "--------------------------------------------------------------------------\n",
      "source: Should India abolish the death penalty?\n",
      "transl: อินเดียควรยกเลิกการลงโทษประหารชีวิตหรือไม่?\n",
      "--------------------------------------------------------------------------\n",
      "source: High winds are affecting the operation to salvage the cargo ship that ran aground in the Solent.\n",
      "transl: ลมแรงกําลังส่งผลกระทบต่อการดําเนินการเพื่อช่วยเรือบรรทุกสินค้า ที่ติดทรายในโซเลนต์\n",
      "--------------------------------------------------------------------------\n",
      "source: Minerals preserved in diamond have revealed hints of the bright blue rocks that exist deep within the Earth.\n",
      "transl: แร่ธาตุที่เก็บไว้ในเพชร ได้เปิดเผยถึงแนวทางของหินสีฟ้าสดใส ที่มีอยู่ลึกภายในโลก\n",
      "--------------------------------------------------------------------------\n",
      "source: Another contender to become UKIP leader has pulled out of the contest - leaving three in the race.\n",
      "transl: อีกผู้สมัครที่จะเป็นผู้นํา UKIP ได้ถอนตัวออกจากการแข่งขัน - เหลือสามในการแข่งขัน\n",
      "--------------------------------------------------------------------------\n",
      "source: Singer Annie Lennox OBE has been honoured for her humanitarian work by the Royal Scottish Geographical Society.\n",
      "transl: นักร้องแอนนี่ เลน็อกซ์ ได้รับเกียรติจากสมาคมภูมิศาสตร์สกอตแลนด์\n",
      "--------------------------------------------------------------------------\n"
     ]
    },
    {
     "name": "stdout",
     "output_type": "stream",
     "text": [
      "source: Three news organisations have asked a US judge to force the government to reveal the amount it paid for technology to unlock an iPhone used by the San Bernardino gunman.\n",
      "transl: องค์กรข่าวสามแห่งได้ขอให้ผู้พิพากษาสหรัฐฯบังคับรัฐบาลให้เปิดเผยจํานวนเงินที่จ่ายสําหรับเทคโนโลยีที่จะปลดล็อคไอโฟนที่ใช้โดยผู้ยิงซานเบอร์นาร์ดินโญ\n",
      "--------------------------------------------------------------------------\n",
      "source: The old footage begins with a large man in a blue tracksuit walking across a pitch and casually kicking a rugby ball out of his road.\n",
      "transl: ภาพเก่าเริ่มด้วยชายตัวใหญ่ในชุดกีฬาสีฟ้า เดินผ่านสนาม และสบายๆ กีดลูกร็อกกี้ออกจากทาง\n",
      "--------------------------------------------------------------------------\n",
      "source: Relatives of the victims of Tuesday's prison fire in Comayagua, Honduras have been mourning the dead.\n",
      "transl: ญาติของเหยื่อของไฟไหม้ในคุกวันอังคารที่ Comayagua, ฮอนดูรัสได้ทุกข์ผู้ตาย\n",
      "--------------------------------------------------------------------------\n",
      "source: Glasgow's Willow Tea Rooms has reopened at Watt brothers department store after leaving its former home in a Charles Rennie Mackintosh designed building.\n",
      "transl: ห้องชาวิลโลว์ของกลาสโกว์ ได้เปิดใหม่ในห้างสรรพสินค้าของพี่น้องวัตต์ หลังจากออกจากบ้านเดิมในอาคารที่ออกแบบโดยชาร์ลส์ เรนนี่ แมคคินโตช\n",
      "--------------------------------------------------------------------------\n",
      "source: The US First Lady joined comedian and television star James Cordon for Wednesday night's episode of Carpool Karaoke on The Late Late Show.\n",
      "transl: หญิงนายกรัฐมนตรีของสหรัฐฯ ร่วมกับนักแสดงตลกและดาราโทรทัศน์ เจมส์ คอร์ดอน สําหรับตอนของ คาร์พูล คาราโอเกะ ในรายการ The Late Late Show\n",
      "--------------------------------------------------------------------------\n",
      "source: England missed a run-out off the final ball as South Africa won the first Twenty20 international by three wickets in Cape Town.\n",
      "transl: อังกฤษพลาดการวิ่งออกจากบอลสุดท้ายในขณะที่แอฟริกาใต้ชนะการแข่งขัน Twenty20 ระหว่างประเทศครั้งแรกด้วยสามวิเคทในเคปทาวน์\n",
      "--------------------------------------------------------------------------\n",
      "source: Opposition parties have criticised moves to cut £3.7bn from the benefits bill by reducing the number of people eligible for disability benefit.\n",
      "transl: พรรคค้านค้านได้วิจารณ์การเคลื่อนไหวที่จะตัด £3.7bn จากบิลประโยชน์โดยการลดจํานวนคนที่มีสิทธิได้รับเงินเยียวยาคนพิการ\n",
      "--------------------------------------------------------------------------\n",
      "source: Saturdays singer Rochelle Humes is the new host of The X Factor spin-off show The Xtra Factor, where she has been partnered with radio DJ Melvin Odoom.\n",
      "transl: นักร้องวันเสาร์ โรเชลล์ ฮูมส์ เป็นเจ้าภาพรายการใหม่ของรายการ The X Factor The Xtra Factor โดยเธอได้ร่วมมือกับวิทยุดีเจเมลวิน โอดูม\n",
      "--------------------------------------------------------------------------\n",
      "source: UK bookmaker William Hill has reported a fall in half-year profits after being hit by changes to betting taxes.\n",
      "transl: บริษัทพนันอังกฤษ วิลเลียม ฮิลล์ รายงานว่ากําไรครึ่งปีลดลง หลังได้รับผลกระทบจากการเปลี่ยนแปลงภาษีพนัน\n",
      "--------------------------------------------------------------------------\n",
      "source: Widnes captain Kevin Brown welcomes comparisons with Premier League leaders Leicester City if it means they achieve success this season.\n",
      "transl: กัปตันทีมของวิดเนส เควิน บราวน์ ยินดีที่จะเปรียบเทียบกับลีกเอิง ลีกนําเลสเตอร์ซิตี้ ถ้ามันหมายถึงพวกเขาประสบความสําเร็จในฤดูกาลนี้\n",
      "--------------------------------------------------------------------------\n",
      "source: An extensive aerial and underwater survey has revealed that 93% of Australia's Great Barrier Reef has been affected by coral bleaching.\n",
      "transl: การ สํารวจ จาก อากาศ และ ใต้ น้ํา ได้ เปิด เผย ว่า 93% ของ ปะการัง แกรท แบรียร์ รีฟ ของ ออสเตรเลีย ได้ รับ ผล จาก การ ขาว ปะการัง.\n",
      "--------------------------------------------------------------------------\n",
      "source: Manchester United have completed the signing Uruguayan right-back Guillermo Varela from Atletico Penarol for an undisclosed fee.\n",
      "transl: แมนเชสเตอร์ ยูไนเต็ด ได้เซ็นสัญญากับ กิเลร์โม่ วารีล่า กองหลังขวาชาวอุรุกวัย จาก แอตเลติโก้ เปนารอล ด้วยค่าตัวที่ไม่เปิดเผย\n",
      "--------------------------------------------------------------------------\n",
      "source: Tony Adams' Granada have been relegated to the Spanish second tier after a 2-1 defeat at Real Sociedad.\n",
      "transl: โทนี่ อดัมส์ กรานาด้า ได้ตกชั้นไปสู่ลีกสองของสเปน หลังจากแพ้ 2-1 เรอัล โซเซียดาด\n",
      "--------------------------------------------------------------------------\n",
      "source: A court in India's western Mumbai city has found 12 men guilty for their roles in the 2006 bombings of commuter trains.\n",
      "transl: ศาลในเมืองมุมไบ ทางตะวันตกของอินเดีย พบว่าชาย 12 คนมีความผิดในบทบาทของพวกเขาในปี 2006 การระเบิดรถไฟโดยสาร\n",
      "--------------------------------------------------------------------------\n",
      "source: Scotland has been warned it is hurtling towards an \"epidemic of larger waistlines and increased cancer risk\" fuelled by people's love of sweet treats and fast food.\n",
      "transl: สกอตแลนด์ถูกเตือนว่ากําลังกระโดดไปสู่ \"การระบาดของเส้นเอวที่ใหญ่ขึ้น และเพิ่มความเสี่ยงต่อมะเร็ง\" ที่ได้รับการกระตุ้นจากความรักของคนในอาหารหวานและอาหารด่วน\n",
      "--------------------------------------------------------------------------\n",
      "source: The family of a 12-year-old allegedly stabbed by two schoolmates have thanked their state governor for honouring her with a special day.\n",
      "transl: ครอบครัวของเด็ก 12 ปีที่ถูกคาดว่าถูกแทงโดยเพื่อนร่วมโรงเรียน 2 คน ได้ขอบคุณผู้ว่าราชการของรัฐของพวกเขาที่ให้เกียรติกับวันพิเศษ\n",
      "--------------------------------------------------------------------------\n",
      "source: Ex-UK Athletics coach George Skafidas has been banned from sport for life by UK Anti-Doping, which accused him of destroying Bernice Wilson's career.\n",
      "transl: อดีตโค้ชกีฬาอังกฤษ จอร์จ สคาฟิดาส ถูกห้ามจากกีฬาตลอดชีวิตโดยอังกฤษ ป้องกันการใช้ยาเสพติด ซึ่งกล่าวหาเขาว่าทําลายอาชีพของเบอร์นิซ วิลสัน\n",
      "--------------------------------------------------------------------------\n",
      "source: Edinburgh's troubled tram project will be investigated by a judge-led inquiry, Scottish First Minister Alex Salmond has announced.\n",
      "transl: โครงการรถไฟฟ้าที่กําลังประสบปัญหาของเอดินบอร์ก จะถูกสอบสวนโดยผู้พิพากษา ซึ่งเป็นผู้นําการสอบสวน นายอเล็กซ์ ซัลมอนด์ รัฐมนตรีสกอตแลนด์ ได้ประกาศไว้แล้ว\n",
      "--------------------------------------------------------------------------\n",
      "source: A fan has threatened to press charges against Valentino Rossi following an incident in the paddock that occurred while she was taking a selfie.\n",
      "transl: แฟนๆคนหนึ่งขู่จะฟ้อง วาเลนติโน่ โรสซี่ หลังจากเหตุการณ์ที่เกิดขึ้นในสนาม\n",
      "--------------------------------------------------------------------------\n",
      "source: Edinburgh scrum-half Sean Kennedy has been ruled out for the rest of the season through injury.\n",
      "transl: เซน เคนเนดี้ ห่างจากทีมไปตลอดฤดูกาลนี้\n",
      "--------------------------------------------------------------------------\n",
      "source: Further doubt has been cast over the future of specialist-led maternity care at a Cumbrian hospital.\n",
      "transl: ความสงสัยเพิ่มเติมได้รับการโยนไปในอนาคตของการดูแลผู้มีท้องโดยผู้เชี่ยวชาญที่โรงพยาบาล Cumbrian\n",
      "--------------------------------------------------------------------------\n",
      "source: Ending Celtic's unbeaten domestic record should not be the focus of Rangers players on Sunday, according to former Ibrox forward Peter Lovenkrands.\n",
      "transl: การจบสถิติที่ไม่แพ้ของเซลติกในบ้านไม่ควรเป็นจุดสนใจของนักเตะเรนเจอร์สในวันอาทิตย์นี้ ตามอดีตไอบรอ็กซ์หน้า ปีเตอร์ โลเวนครันด์\n",
      "--------------------------------------------------------------------------\n",
      "source: Five off-licences in Belfast's Holyland area are to close \"voluntarily\" for a number of hours on St Patrick's Day.\n",
      "transl: ห้าที่ไม่มีใบอนุญาตในเขต Holyland ของเบลฟาสต์ จะปิด \"ด้วยความสมัครใจ\" เป็นเวลาหลายชั่วโมงในวันเซนต์แพทริค\n",
      "--------------------------------------------------------------------------\n"
     ]
    }
   ],
   "source": [
    "for i in range(100):\n",
    "    source = dataset['train'][i]['summary']\n",
    "    inputs = tokenizer(source, return_tensors=\"pt\").to(device)\n",
    "    translated_tokens = model.generate(\n",
    "        **inputs, forced_bos_token_id=tokenizer.lang_code_to_id[\"tha_Thai\"], max_length=512\n",
    "    )\n",
    "    translated = tokenizer.batch_decode(translated_tokens, skip_special_tokens=True)[0]\n",
    "    print(\"source:\", source)\n",
    "    print(\"transl:\", translated)    \n",
    "    print(\"--------------------------------------------------------------------------\")"
   ]
  },
  {
   "cell_type": "code",
   "execution_count": null,
   "id": "2ffea34e",
   "metadata": {},
   "outputs": [],
   "source": []
  }
 ],
 "metadata": {
  "kernelspec": {
   "display_name": "Python 3 (ipykernel)",
   "language": "python",
   "name": "python3"
  },
  "language_info": {
   "codemirror_mode": {
    "name": "ipython",
    "version": 3
   },
   "file_extension": ".py",
   "mimetype": "text/x-python",
   "name": "python",
   "nbconvert_exporter": "python",
   "pygments_lexer": "ipython3",
   "version": "3.8.13"
  }
 },
 "nbformat": 4,
 "nbformat_minor": 5
}
